{
  "nbformat": 4,
  "nbformat_minor": 0,
  "metadata": {
    "colab": {
      "name": "Sock Merchant.ipynb",
      "provenance": [],
      "collapsed_sections": [],
      "authorship_tag": "ABX9TyOUwKzLvHBsgNFcGU5Bhil8",
      "include_colab_link": true
    },
    "kernelspec": {
      "name": "python3",
      "display_name": "Python 3"
    }
  },
  "cells": [
    {
      "cell_type": "markdown",
      "metadata": {
        "id": "view-in-github",
        "colab_type": "text"
      },
      "source": [
        "<a href=\"https://colab.research.google.com/github/ajay-nrg/HackerRank/blob/master/Sock_Merchant.ipynb\" target=\"_parent\"><img src=\"https://colab.research.google.com/assets/colab-badge.svg\" alt=\"Open In Colab\"/></a>"
      ]
    },
    {
      "cell_type": "code",
      "metadata": {
        "id": "5UN_Lh_8eCvL",
        "colab_type": "code",
        "colab": {}
      },
      "source": [
        "arr = []"
      ],
      "execution_count": 26,
      "outputs": []
    },
    {
      "cell_type": "code",
      "metadata": {
        "id": "yKsGULQLeFhM",
        "colab_type": "code",
        "colab": {
          "base_uri": "https://localhost:8080/",
          "height": 34
        },
        "outputId": "f63093c3-e022-4300-a42f-5b9fa2385f1d"
      },
      "source": [
        "ar = [1,2,1,2,1,2,3,1,2,3,3]\n",
        "len(ar)"
      ],
      "execution_count": 27,
      "outputs": [
        {
          "output_type": "execute_result",
          "data": {
            "text/plain": [
              "11"
            ]
          },
          "metadata": {
            "tags": []
          },
          "execution_count": 27
        }
      ]
    },
    {
      "cell_type": "code",
      "metadata": {
        "id": "Qe82rlgreTJc",
        "colab_type": "code",
        "colab": {
          "base_uri": "https://localhost:8080/",
          "height": 34
        },
        "outputId": "1fe9ecd6-695d-4fcf-a585-89b71c12b8ef"
      },
      "source": [
        "n = len(ar)\n",
        "for i in range(n):\n",
        "  if ar[i] not in arr:\n",
        "    arr.append(ar[i])\n",
        "print(arr)"
      ],
      "execution_count": 28,
      "outputs": [
        {
          "output_type": "stream",
          "text": [
            "[1, 2, 3]\n"
          ],
          "name": "stdout"
        }
      ]
    },
    {
      "cell_type": "code",
      "metadata": {
        "id": "6A4p7empkZ_Z",
        "colab_type": "code",
        "colab": {}
      },
      "source": [
        "d = []\n",
        "for i in range(len(arr)):\n",
        "  d.append(int(count(ar,arr[i])/2))"
      ],
      "execution_count": 29,
      "outputs": []
    },
    {
      "cell_type": "code",
      "metadata": {
        "id": "ZIV9Qzk9en-E",
        "colab_type": "code",
        "colab": {}
      },
      "source": [
        "def count(ar,no):\n",
        "  c=0\n",
        "  for i in range(len(ar)):\n",
        "    if (ar[i]==no):\n",
        "      c+=1\n",
        "  return c"
      ],
      "execution_count": 30,
      "outputs": []
    },
    {
      "cell_type": "code",
      "metadata": {
        "id": "io3CghckhED8",
        "colab_type": "code",
        "colab": {
          "base_uri": "https://localhost:8080/",
          "height": 34
        },
        "outputId": "e2e98508-cf93-46c8-b9b3-5a64cbd52754"
      },
      "source": [
        "s = 0\n",
        "for i in range(len(d)):\n",
        "    s+=d[i]\n",
        "print(s)"
      ],
      "execution_count": 31,
      "outputs": [
        {
          "output_type": "stream",
          "text": [
            "5\n"
          ],
          "name": "stdout"
        }
      ]
    },
    {
      "cell_type": "code",
      "metadata": {
        "id": "6P3dA8iwk3KW",
        "colab_type": "code",
        "colab": {}
      },
      "source": [
        ""
      ],
      "execution_count": null,
      "outputs": []
    }
  ]
}